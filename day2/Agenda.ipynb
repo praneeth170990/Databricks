{
 "cells": [
  {
   "cell_type": "markdown",
   "metadata": {
    "application/vnd.databricks.v1+cell": {
     "cellMetadata": {},
     "inputWidgets": {},
     "nuid": "7d4d7bc0-d57a-40d0-91c6-bd06867e0889",
     "showTitle": false,
     "tableResultSettingsMap": {},
     "title": ""
    }
   },
   "source": [
    "Lakehouse\n",
    "\n",
    "Medaillion Architecture,\n",
    "Multihop,\n",
    "bronze-silver-gold\n",
    "\n",
    "table formats:\n",
    "delta,\n",
    "iceberg,\n",
    "\n",
    "deep dive in delta:\n",
    "features of delta,\n",
    "optimization of delta\n",
    "\n",
    "spark ui (internals),\n",
    "medaillion- handson,\n",
    "workflows automation.\n",
    "\n",
    "Databricks Repos"
   ]
  }
 ],
 "metadata": {
  "application/vnd.databricks.v1+notebook": {
   "computePreferences": null,
   "dashboards": [],
   "environmentMetadata": {
    "base_environment": "",
    "environment_version": "2"
   },
   "inputWidgetPreferences": null,
   "language": "python",
   "notebookMetadata": {
    "pythonIndentUnit": 4
   },
   "notebookName": "Agenda",
   "widgets": {}
  },
  "language_info": {
   "name": "python"
  }
 },
 "nbformat": 4,
 "nbformat_minor": 0
}
