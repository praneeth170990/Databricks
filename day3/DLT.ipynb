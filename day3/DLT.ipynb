{
 "cells": [
  {
   "cell_type": "code",
   "execution_count": 0,
   "metadata": {
    "application/vnd.databricks.v1+cell": {
     "cellMetadata": {
      "byteLimit": 2048000,
      "implicitDf": true,
      "rowLimit": 10000
     },
     "inputWidgets": {},
     "nuid": "cd822c9d-1be4-4ca9-8742-756aa8e3200c",
     "showTitle": true,
     "tableResultSettingsMap": {},
     "title": "Ingestion"
    }
   },
   "outputs": [],
   "source": [
    "create streaming table sales_stream as \n",
    "select *, current_timestamp() as ingestion_date from stream read_files(\n",
    "  's3://jpmctraining/raw/sales',\n",
    "  format => 'csv'\n",
    ");\n",
    "\n",
    "create streaming table products_stream as \n",
    "select *, current_timestamp() as ingestion_date from stream read_files(\n",
    "  's3://jpmctraining/raw/products',\n",
    "  format => 'csv'\n",
    ");\n",
    "\n",
    "create streaming table customers_stream as \n",
    "select *, current_timestamp() as ingestion_date from stream read_files(\n",
    "  's3://jpmctraining/raw/customers',\n",
    "  format => 'csv'\n",
    ")"
   ]
  },
  {
   "cell_type": "code",
   "execution_count": 0,
   "metadata": {
    "application/vnd.databricks.v1+cell": {
     "cellMetadata": {},
     "inputWidgets": {},
     "nuid": "a2775c9a-434f-49ed-8fa8-95a9cf9a0e00",
     "showTitle": false,
     "tableResultSettingsMap": {},
     "title": ""
    }
   },
   "outputs": [],
   "source": [
    "create streaming table praneeth_silver.sales_silver  \n",
    "(CONSTRAINT valid_order_id EXPECT (order_id IS NOT NULL) ON VIOLATION DROP ROW) as\n",
    "select distinct * except(_rescued_data,ingestion_date) from stream praneeth_bronz.sales_stream"
   ]
  },
  {
   "cell_type": "code",
   "execution_count": 0,
   "metadata": {
    "application/vnd.databricks.v1+cell": {
     "cellMetadata": {},
     "inputWidgets": {},
     "nuid": "11388342-9b83-43d0-b51f-ad8f69f1270c",
     "showTitle": false,
     "tableResultSettingsMap": {},
     "title": ""
    }
   },
   "outputs": [],
   "source": [
    "-- Create and populate the target table.\n",
    "CREATE OR REFRESH STREAMING TABLE praneeth_silver.product_silver;\n",
    "\n",
    "APPLY CHANGES INTO\n",
    "  praneeth_silver.product_silver\n",
    "FROM\n",
    "  stream(praneeth_bronz.products_stream)\n",
    "KEYS\n",
    "  (product_id)\n",
    "APPLY AS DELETE WHEN\n",
    "  operation = \"DELETE\"\n",
    "SEQUENCE BY\n",
    "  seqNum\n",
    "COLUMNS * EXCEPT\n",
    "  (operation, seqNum,_rescued_data,ingestion_date)\n",
    "STORED AS\n",
    "  SCD TYPE 1;"
   ]
  },
  {
   "cell_type": "code",
   "execution_count": 0,
   "metadata": {
    "application/vnd.databricks.v1+cell": {
     "cellMetadata": {},
     "inputWidgets": {},
     "nuid": "6350947e-2a82-4842-a2b6-cc880447a0c2",
     "showTitle": false,
     "tableResultSettingsMap": {},
     "title": ""
    }
   },
   "outputs": [],
   "source": [
    "-- Create and populate the target table.\n",
    "CREATE OR REFRESH STREAMING TABLE praneeth_silver.customer_silver;\n",
    "\n",
    "APPLY CHANGES INTO\n",
    "  praneeth_silver.customer_silver\n",
    "FROM\n",
    "  stream(praneeth_bronz.customers_stream)\n",
    "KEYS\n",
    "  (customer_id)\n",
    "APPLY AS DELETE WHEN\n",
    "  operation = \"DELETE\"\n",
    "SEQUENCE BY\n",
    "  sequenceNum\n",
    "COLUMNS * EXCEPT\n",
    "  (operation, sequenceNum,_rescued_data,ingestion_date)\n",
    "STORED AS\n",
    "  SCD TYPE 2;"
   ]
  },
  {
   "cell_type": "code",
   "execution_count": 0,
   "metadata": {
    "application/vnd.databricks.v1+cell": {
     "cellMetadata": {},
     "inputWidgets": {},
     "nuid": "52417412-da80-4862-aa75-f2febebc791f",
     "showTitle": false,
     "tableResultSettingsMap": {},
     "title": ""
    }
   },
   "outputs": [],
   "source": [
    "create materialized view praneeth_silver.customer_active as \n",
    "select * from praneeth_silver.customer_silver where `__END_AT` is null"
   ]
  }
 ],
 "metadata": {
  "application/vnd.databricks.v1+notebook": {
   "computePreferences": null,
   "dashboards": [],
   "environmentMetadata": {
    "base_environment": "",
    "environment_version": "2"
   },
   "inputWidgetPreferences": null,
   "language": "sql",
   "notebookMetadata": {
    "mostRecentlyExecutedCommandWithImplicitDF": {
     "commandId": 4659743179433450,
     "dataframes": [
      "_sqldf"
     ]
    },
    "pythonIndentUnit": 4
   },
   "notebookName": "DLT",
   "widgets": {}
  },
  "language_info": {
   "name": "sql"
  }
 },
 "nbformat": 4,
 "nbformat_minor": 0
}
